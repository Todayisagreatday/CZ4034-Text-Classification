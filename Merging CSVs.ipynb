{
 "cells": [
  {
   "cell_type": "markdown",
   "metadata": {},
   "source": [
    "# Merging CSVs"
   ]
  },
  {
   "cell_type": "code",
   "execution_count": 1,
   "metadata": {},
   "outputs": [],
   "source": [
    "import pandas as pd\n",
    "import numpy as np"
   ]
  },
  {
   "cell_type": "markdown",
   "metadata": {},
   "source": [
    "Import CSVs "
   ]
  },
  {
   "cell_type": "code",
   "execution_count": 3,
   "metadata": {},
   "outputs": [],
   "source": [
    "positive_df = pd.read_csv('amazon_positive_reviews.csv')\n",
    "critical_df = pd.read_csv('amazon_critical_reviews.csv')\n",
    "\n",
    "one_star_df = pd.read_csv('amazon_reviews_1star.csv')\n",
    "two_star_df = pd.read_csv('amazon_reviews_2star.csv')\n",
    "three_star_df = pd.read_csv('amazon_reviews_3star.csv')\n",
    "four_star_df = pd.read_csv('amazon_reviews_4star.csv')\n",
    "five_star_df = pd.read_csv('amazon_reviews_5star.csv')\n",
    "\n",
    "image_df = pd.read_excel('amazon_image_reviews.xlsx')"
   ]
  },
  {
   "cell_type": "code",
   "execution_count": 4,
   "metadata": {
    "scrolled": false
   },
   "outputs": [],
   "source": [
    "# print(positive_df.head())\n",
    "# print(critical_df.head())\n",
    "# print(one_star_df.head())\n",
    "# print(two_star_df.head())\n",
    "# print(three_star_df.head())\n",
    "# print(four_star_df.head())\n",
    "# print(five_star_df.head())\n",
    "# print(image_df.head())"
   ]
  },
  {
   "cell_type": "markdown",
   "metadata": {},
   "source": [
    "Merging CSVs "
   ]
  },
  {
   "cell_type": "code",
   "execution_count": 5,
   "metadata": {},
   "outputs": [],
   "source": [
    "all_reviews_df = one_star_df.append([two_star_df, three_star_df, four_star_df, five_star_df, positive_df, critical_df, image_df], sort=False)"
   ]
  },
  {
   "cell_type": "markdown",
   "metadata": {},
   "source": [
    "Check no. of rows and columns "
   ]
  },
  {
   "cell_type": "code",
   "execution_count": 6,
   "metadata": {},
   "outputs": [
    {
     "data": {
      "text/plain": [
       "(17568, 12)"
      ]
     },
     "execution_count": 6,
     "metadata": {},
     "output_type": "execute_result"
    }
   ],
   "source": [
    "all_reviews_df.shape"
   ]
  },
  {
   "cell_type": "markdown",
   "metadata": {},
   "source": [
    "View column names"
   ]
  },
  {
   "cell_type": "code",
   "execution_count": 7,
   "metadata": {},
   "outputs": [
    {
     "data": {
      "text/plain": [
       "Index(['web-scraper-order', 'web-scraper-start-url', 'author', 'title', 'date',\n",
       "       'content', 'rating', 'next', 'next-href', 'helpful', 'image-src',\n",
       "       'image_2-src'],\n",
       "      dtype='object')"
      ]
     },
     "execution_count": 7,
     "metadata": {},
     "output_type": "execute_result"
    }
   ],
   "source": [
    "all_reviews_df.columns"
   ]
  },
  {
   "cell_type": "markdown",
   "metadata": {},
   "source": [
    "Check how many null values per column"
   ]
  },
  {
   "cell_type": "code",
   "execution_count": 8,
   "metadata": {},
   "outputs": [
    {
     "data": {
      "text/plain": [
       "web-scraper-order            0\n",
       "web-scraper-start-url        0\n",
       "author                       9\n",
       "title                        5\n",
       "date                         5\n",
       "content                      9\n",
       "rating                       5\n",
       "next                       145\n",
       "next-href                  140\n",
       "helpful                  14439\n",
       "image-src                17498\n",
       "image_2-src              17568\n",
       "dtype: int64"
      ]
     },
     "execution_count": 8,
     "metadata": {},
     "output_type": "execute_result"
    }
   ],
   "source": [
    "all_reviews_df.isnull().sum(axis = 0)"
   ]
  },
  {
   "cell_type": "markdown",
   "metadata": {},
   "source": [
    "Drop redundant columns and rename web-scraper-order to ID"
   ]
  },
  {
   "cell_type": "code",
   "execution_count": 9,
   "metadata": {},
   "outputs": [],
   "source": [
    "all_reviews_df.drop(columns=['web-scraper-start-url', 'next', 'next-href', 'image_2-src'], inplace=True)\n",
    "all_reviews_df.rename({'web-scraper-order': 'ID'}, axis='columns', inplace=True)"
   ]
  },
  {
   "cell_type": "markdown",
   "metadata": {},
   "source": [
    "Check null values per column"
   ]
  },
  {
   "cell_type": "code",
   "execution_count": 10,
   "metadata": {},
   "outputs": [
    {
     "data": {
      "text/plain": [
       "ID               0\n",
       "author           9\n",
       "title            5\n",
       "date             5\n",
       "content          9\n",
       "rating           5\n",
       "helpful      14439\n",
       "image-src    17498\n",
       "dtype: int64"
      ]
     },
     "execution_count": 10,
     "metadata": {},
     "output_type": "execute_result"
    }
   ],
   "source": [
    "all_reviews_df.isnull().sum(axis=0)"
   ]
  },
  {
   "cell_type": "markdown",
   "metadata": {},
   "source": [
    "Check no. of unique values vs total count to find duplicates "
   ]
  },
  {
   "cell_type": "code",
   "execution_count": 11,
   "metadata": {},
   "outputs": [
    {
     "data": {
      "text/html": [
       "<div>\n",
       "<style scoped>\n",
       "    .dataframe tbody tr th:only-of-type {\n",
       "        vertical-align: middle;\n",
       "    }\n",
       "\n",
       "    .dataframe tbody tr th {\n",
       "        vertical-align: top;\n",
       "    }\n",
       "\n",
       "    .dataframe thead th {\n",
       "        text-align: right;\n",
       "    }\n",
       "</style>\n",
       "<table border=\"1\" class=\"dataframe\">\n",
       "  <thead>\n",
       "    <tr style=\"text-align: right;\">\n",
       "      <th></th>\n",
       "      <th>ID</th>\n",
       "      <th>author</th>\n",
       "      <th>title</th>\n",
       "      <th>date</th>\n",
       "      <th>content</th>\n",
       "      <th>rating</th>\n",
       "      <th>helpful</th>\n",
       "      <th>image-src</th>\n",
       "    </tr>\n",
       "  </thead>\n",
       "  <tbody>\n",
       "    <tr>\n",
       "      <th>count</th>\n",
       "      <td>17568</td>\n",
       "      <td>17559</td>\n",
       "      <td>17563</td>\n",
       "      <td>17563</td>\n",
       "      <td>17559</td>\n",
       "      <td>17563</td>\n",
       "      <td>3129</td>\n",
       "      <td>70</td>\n",
       "    </tr>\n",
       "    <tr>\n",
       "      <th>unique</th>\n",
       "      <td>17568</td>\n",
       "      <td>8290</td>\n",
       "      <td>7138</td>\n",
       "      <td>961</td>\n",
       "      <td>10175</td>\n",
       "      <td>5</td>\n",
       "      <td>88</td>\n",
       "      <td>70</td>\n",
       "    </tr>\n",
       "    <tr>\n",
       "      <th>top</th>\n",
       "      <td>1584086775-4551</td>\n",
       "      <td>Amazon Customer</td>\n",
       "      <td>Five Stars</td>\n",
       "      <td>Reviewed in the United States on September 29,...</td>\n",
       "      <td>Great book</td>\n",
       "      <td>5.0 out of 5 stars</td>\n",
       "      <td>One person found this helpful</td>\n",
       "      <td>https://images-na.ssl-images-amazon.com/images...</td>\n",
       "    </tr>\n",
       "    <tr>\n",
       "      <th>freq</th>\n",
       "      <td>1</td>\n",
       "      <td>1813</td>\n",
       "      <td>1205</td>\n",
       "      <td>726</td>\n",
       "      <td>30</td>\n",
       "      <td>4520</td>\n",
       "      <td>1342</td>\n",
       "      <td>1</td>\n",
       "    </tr>\n",
       "  </tbody>\n",
       "</table>\n",
       "</div>"
      ],
      "text/plain": [
       "                     ID           author       title  \\\n",
       "count             17568            17559       17563   \n",
       "unique            17568             8290        7138   \n",
       "top     1584086775-4551  Amazon Customer  Five Stars   \n",
       "freq                  1             1813        1205   \n",
       "\n",
       "                                                     date     content  \\\n",
       "count                                               17563       17559   \n",
       "unique                                                961       10175   \n",
       "top     Reviewed in the United States on September 29,...  Great book   \n",
       "freq                                                  726          30   \n",
       "\n",
       "                    rating                        helpful  \\\n",
       "count                17563                           3129   \n",
       "unique                   5                             88   \n",
       "top     5.0 out of 5 stars  One person found this helpful   \n",
       "freq                  4520                           1342   \n",
       "\n",
       "                                                image-src  \n",
       "count                                                  70  \n",
       "unique                                                 70  \n",
       "top     https://images-na.ssl-images-amazon.com/images...  \n",
       "freq                                                    1  "
      ]
     },
     "execution_count": 11,
     "metadata": {},
     "output_type": "execute_result"
    }
   ],
   "source": [
    "all_reviews_df.describe()"
   ]
  },
  {
   "cell_type": "markdown",
   "metadata": {},
   "source": [
    "Drop duplicate reviews based on content column starting from the last row of the table/dataframe"
   ]
  },
  {
   "cell_type": "code",
   "execution_count": 12,
   "metadata": {},
   "outputs": [
    {
     "data": {
      "text/html": [
       "<div>\n",
       "<style scoped>\n",
       "    .dataframe tbody tr th:only-of-type {\n",
       "        vertical-align: middle;\n",
       "    }\n",
       "\n",
       "    .dataframe tbody tr th {\n",
       "        vertical-align: top;\n",
       "    }\n",
       "\n",
       "    .dataframe thead th {\n",
       "        text-align: right;\n",
       "    }\n",
       "</style>\n",
       "<table border=\"1\" class=\"dataframe\">\n",
       "  <thead>\n",
       "    <tr style=\"text-align: right;\">\n",
       "      <th></th>\n",
       "      <th>ID</th>\n",
       "      <th>author</th>\n",
       "      <th>title</th>\n",
       "      <th>date</th>\n",
       "      <th>content</th>\n",
       "      <th>rating</th>\n",
       "      <th>helpful</th>\n",
       "      <th>image-src</th>\n",
       "    </tr>\n",
       "  </thead>\n",
       "  <tbody>\n",
       "    <tr>\n",
       "      <th>count</th>\n",
       "      <td>10176</td>\n",
       "      <td>10174</td>\n",
       "      <td>10176</td>\n",
       "      <td>10176</td>\n",
       "      <td>10175</td>\n",
       "      <td>10176</td>\n",
       "      <td>2739</td>\n",
       "      <td>68</td>\n",
       "    </tr>\n",
       "    <tr>\n",
       "      <th>unique</th>\n",
       "      <td>10176</td>\n",
       "      <td>8076</td>\n",
       "      <td>7106</td>\n",
       "      <td>944</td>\n",
       "      <td>10175</td>\n",
       "      <td>5</td>\n",
       "      <td>87</td>\n",
       "      <td>68</td>\n",
       "    </tr>\n",
       "    <tr>\n",
       "      <th>top</th>\n",
       "      <td>1584086609-3811</td>\n",
       "      <td>Amazon Customer</td>\n",
       "      <td>Five Stars</td>\n",
       "      <td>Reviewed in the United States on September 29,...</td>\n",
       "      <td>Not bad..</td>\n",
       "      <td>5.0 out of 5 stars</td>\n",
       "      <td>One person found this helpful</td>\n",
       "      <td>https://images-na.ssl-images-amazon.com/images...</td>\n",
       "    </tr>\n",
       "    <tr>\n",
       "      <th>freq</th>\n",
       "      <td>1</td>\n",
       "      <td>1062</td>\n",
       "      <td>933</td>\n",
       "      <td>418</td>\n",
       "      <td>1</td>\n",
       "      <td>3338</td>\n",
       "      <td>1160</td>\n",
       "      <td>1</td>\n",
       "    </tr>\n",
       "  </tbody>\n",
       "</table>\n",
       "</div>"
      ],
      "text/plain": [
       "                     ID           author       title  \\\n",
       "count             10176            10174       10176   \n",
       "unique            10176             8076        7106   \n",
       "top     1584086609-3811  Amazon Customer  Five Stars   \n",
       "freq                  1             1062         933   \n",
       "\n",
       "                                                     date    content  \\\n",
       "count                                               10176      10175   \n",
       "unique                                                944      10175   \n",
       "top     Reviewed in the United States on September 29,...  Not bad..   \n",
       "freq                                                  418          1   \n",
       "\n",
       "                    rating                        helpful  \\\n",
       "count                10176                           2739   \n",
       "unique                   5                             87   \n",
       "top     5.0 out of 5 stars  One person found this helpful   \n",
       "freq                  3338                           1160   \n",
       "\n",
       "                                                image-src  \n",
       "count                                                  68  \n",
       "unique                                                 68  \n",
       "top     https://images-na.ssl-images-amazon.com/images...  \n",
       "freq                                                    1  "
      ]
     },
     "execution_count": 12,
     "metadata": {},
     "output_type": "execute_result"
    }
   ],
   "source": [
    "all_reviews_df = all_reviews_df.drop_duplicates(subset='content', keep=\"last\")\n",
    "all_reviews_df.describe()"
   ]
  },
  {
   "cell_type": "markdown",
   "metadata": {},
   "source": [
    "Check no. of rows and cols in new dataframe/table"
   ]
  },
  {
   "cell_type": "code",
   "execution_count": 14,
   "metadata": {},
   "outputs": [
    {
     "data": {
      "text/plain": [
       "(10176, 8)"
      ]
     },
     "execution_count": 14,
     "metadata": {},
     "output_type": "execute_result"
    }
   ],
   "source": [
    "all_reviews_df.shape"
   ]
  },
  {
   "cell_type": "markdown",
   "metadata": {},
   "source": [
    "Save to CSV"
   ]
  },
  {
   "cell_type": "code",
   "execution_count": 13,
   "metadata": {},
   "outputs": [],
   "source": [
    "all_reviews_df.to_csv('all_amazon_reviews.csv')"
   ]
  }
 ],
 "metadata": {
  "kernelspec": {
   "display_name": "Python 3",
   "language": "python",
   "name": "python3"
  },
  "language_info": {
   "codemirror_mode": {
    "name": "ipython",
    "version": 3
   },
   "file_extension": ".py",
   "mimetype": "text/x-python",
   "name": "python",
   "nbconvert_exporter": "python",
   "pygments_lexer": "ipython3",
   "version": "3.7.3"
  }
 },
 "nbformat": 4,
 "nbformat_minor": 2
}
